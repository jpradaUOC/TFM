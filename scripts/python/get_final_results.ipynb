{
 "cells": [
  {
   "cell_type": "markdown",
   "id": "73596d58",
   "metadata": {},
   "source": [
    "# Results"
   ]
  },
  {
   "cell_type": "code",
   "execution_count": 18,
   "id": "b98e235a",
   "metadata": {},
   "outputs": [],
   "source": [
    "import numpy as np\n",
    "import pandas as pd\n",
    "import os\n",
    "from sklearn.metrics import roc_auc_score, confusion_matrix, plot_confusion_matrix, roc_curve\n",
    "import matplotlib.pyplot as plt"
   ]
  },
  {
   "cell_type": "markdown",
   "id": "ac31e883",
   "metadata": {},
   "source": [
    "## AUC confidence intervals"
   ]
  },
  {
   "cell_type": "code",
   "execution_count": 8,
   "id": "54edb891",
   "metadata": {},
   "outputs": [],
   "source": [
    "def bootstrap_auc(y, pred, bootstraps = 100, fold_size = 1000):\n",
    "    statistics = np.zeros(bootstraps)   \n",
    "    df = pd.DataFrame(columns=['y', 'pred'])\n",
    "    df.loc[:, 'y'] = y\n",
    "    df.loc[:, 'pred'] = pred\n",
    "    # get positive examples for stratified sampling\n",
    "    df_pos = df[df.y == 1]\n",
    "    df_neg = df[df.y == 0]\n",
    "    prevalence = len(df_pos) / len(df)\n",
    "    for i in range(bootstraps):\n",
    "        # stratified sampling of positive and negative examples\n",
    "        pos_sample = df_pos.sample(n = int(fold_size * prevalence), replace=True)\n",
    "        neg_sample = df_neg.sample(n = int(fold_size * (1-prevalence)), replace=True)\n",
    "\n",
    "        y_sample = np.concatenate([pos_sample.y.values, neg_sample.y.values])\n",
    "        pred_sample = np.concatenate([pos_sample.pred.values, neg_sample.pred.values])\n",
    "        score = roc_auc_score(y_sample, pred_sample)\n",
    "        statistics[i] = score\n",
    "    return statistics\n",
    "\n",
    "def print_confidence_intervals(statistics):\n",
    "    df = pd.DataFrame(columns=[\"Mean AUC (CI 5%-95%)\"])\n",
    "    mean = statistics.mean()\n",
    "    max_ = np.quantile(statistics, .95)\n",
    "    min_ = np.quantile(statistics, .05)\n",
    "    df.loc[\"Exitus\"] = [\"%.2f (%.2f-%.2f)\" % (mean, min_, max_)]\n",
    "    return df\n"
   ]
  },
  {
   "cell_type": "code",
   "execution_count": 10,
   "id": "eed02f11",
   "metadata": {},
   "outputs": [],
   "source": [
    "path_tabular = '/home/iexpress/TCGA/data/'"
   ]
  },
  {
   "cell_type": "code",
   "execution_count": 13,
   "id": "4e8a873f",
   "metadata": {},
   "outputs": [],
   "source": [
    "tab_dat = pd.read_csv(os.path.join(path_tabular, 'clean_data.csv'), sep = ';')\n",
    "selected_columns = [\"|\" not in i for i in tab_dat.columns]\n",
    "tab_dat = tab_dat[tab_dat.columns[selected_columns]]\n",
    "tab_X_train = tab_dat[tab_dat.dataset.values == 'train']\n",
    "tab_X_val = tab_dat[tab_dat.dataset.values == 'val']\n",
    "tab_X_test = tab_dat[tab_dat.dataset.values == 'test']\n",
    "y_train = tab_X_train['target']\n",
    "y_val = tab_X_val['target']\n",
    "y_test = tab_X_test['target']\n",
    "del tab_X_train['dataset']\n",
    "del tab_X_val['dataset']\n",
    "del tab_X_test['dataset']\n",
    "del tab_X_train['target']\n",
    "del tab_X_val['target']\n",
    "del tab_X_test['target']\n",
    "del tab_X_train['index']\n",
    "del tab_X_val['index']\n",
    "del tab_X_test['index']"
   ]
  },
  {
   "cell_type": "code",
   "execution_count": 6,
   "id": "13c90418",
   "metadata": {},
   "outputs": [],
   "source": [
    "pred_train = np.loadtxt(os.path.join('/home/iexpress/TCGA/saved_models/predictions', 'predictions_train_mixed.csv'), delimiter=\";\")\n",
    "pred_val = np.loadtxt(os.path.join('/home/iexpress/TCGA/saved_models/predictions', 'predictions_val_mixed.csv'), delimiter=\";\")\n",
    "pred_test = np.loadtxt(os.path.join('/home/iexpress/TCGA/saved_models/predictions', 'predictions_test_mixed.csv'), delimiter=\";\")"
   ]
  },
  {
   "cell_type": "code",
   "execution_count": 16,
   "id": "e73e4c4f",
   "metadata": {},
   "outputs": [
    {
     "data": {
      "text/html": [
       "<div>\n",
       "<style scoped>\n",
       "    .dataframe tbody tr th:only-of-type {\n",
       "        vertical-align: middle;\n",
       "    }\n",
       "\n",
       "    .dataframe tbody tr th {\n",
       "        vertical-align: top;\n",
       "    }\n",
       "\n",
       "    .dataframe thead th {\n",
       "        text-align: right;\n",
       "    }\n",
       "</style>\n",
       "<table border=\"1\" class=\"dataframe\">\n",
       "  <thead>\n",
       "    <tr style=\"text-align: right;\">\n",
       "      <th></th>\n",
       "      <th>Mean AUC (CI 5%-95%)</th>\n",
       "    </tr>\n",
       "  </thead>\n",
       "  <tbody>\n",
       "    <tr>\n",
       "      <th>Train</th>\n",
       "      <td>0.94 (0.92-0.95)</td>\n",
       "    </tr>\n",
       "    <tr>\n",
       "      <th>Val</th>\n",
       "      <td>0.87 (0.85-0.88)</td>\n",
       "    </tr>\n",
       "    <tr>\n",
       "      <th>Test</th>\n",
       "      <td>0.84 (0.82-0.86)</td>\n",
       "    </tr>\n",
       "  </tbody>\n",
       "</table>\n",
       "</div>"
      ],
      "text/plain": [
       "      Mean AUC (CI 5%-95%)\n",
       "Train     0.94 (0.92-0.95)\n",
       "Val       0.87 (0.85-0.88)\n",
       "Test      0.84 (0.82-0.86)"
      ]
     },
     "execution_count": 16,
     "metadata": {},
     "output_type": "execute_result"
    }
   ],
   "source": [
    "AUC_CI_train = bootstrap_auc(y_train, pred_train, bootstraps = 100, fold_size = 100,)\n",
    "AUC_CI_val = bootstrap_auc(y_val, pred_val, bootstraps = 100, fold_size = 100)\n",
    "AUC_CI_test = bootstrap_auc(y_test, pred_test, bootstraps = 100, fold_size = 100,)\n",
    "AUC_CI = print_confidence_intervals(AUC_CI_train,)\n",
    "AUC_CI = AUC_CI.append(print_confidence_intervals(AUC_CI_val), ignore_index=True)\n",
    "AUC_CI = AUC_CI.append(print_confidence_intervals(AUC_CI_test), ignore_index=True)\n",
    "AUC_CI.index = ['Train', 'Val', 'Test'];\n",
    "AUC_CI"
   ]
  },
  {
   "cell_type": "markdown",
   "id": "ad5eeb3a",
   "metadata": {},
   "source": [
    "## Plot AUC"
   ]
  },
  {
   "cell_type": "code",
   "execution_count": 27,
   "id": "88971d9f",
   "metadata": {},
   "outputs": [
    {
     "ename": "OSError",
     "evalue": "/home/iexpress/TCGA/saved_models/predictions/predictions_mixed.csv not found.",
     "output_type": "error",
     "traceback": [
      "\u001b[0;31m---------------------------------------------------------------------------\u001b[0m",
      "\u001b[0;31mOSError\u001b[0m                                   Traceback (most recent call last)",
      "\u001b[0;32m/tmp/ipykernel_330520/3198481001.py\u001b[0m in \u001b[0;36m<module>\u001b[0;34m\u001b[0m\n\u001b[1;32m      2\u001b[0m \u001b[0;31m#pred_gene = np.loadtxt(os.path.join('/home/iexpress/TCGA/saved_models/predictions', 'predictions_test_gene.csv'), delimiter=\";\")\u001b[0m\u001b[0;34m\u001b[0m\u001b[0;34m\u001b[0m\u001b[0;34m\u001b[0m\u001b[0m\n\u001b[1;32m      3\u001b[0m \u001b[0mpred_all\u001b[0m \u001b[0;34m=\u001b[0m \u001b[0mnp\u001b[0m\u001b[0;34m.\u001b[0m\u001b[0mloadtxt\u001b[0m\u001b[0;34m(\u001b[0m\u001b[0mos\u001b[0m\u001b[0;34m.\u001b[0m\u001b[0mpath\u001b[0m\u001b[0;34m.\u001b[0m\u001b[0mjoin\u001b[0m\u001b[0;34m(\u001b[0m\u001b[0;34m'/home/iexpress/TCGA/saved_models/predictions'\u001b[0m\u001b[0;34m,\u001b[0m \u001b[0;34m'predictions_all.csv'\u001b[0m\u001b[0;34m)\u001b[0m\u001b[0;34m,\u001b[0m \u001b[0mdelimiter\u001b[0m\u001b[0;34m=\u001b[0m\u001b[0;34m\";\"\u001b[0m\u001b[0;34m)\u001b[0m\u001b[0;34m\u001b[0m\u001b[0;34m\u001b[0m\u001b[0m\n\u001b[0;32m----> 4\u001b[0;31m \u001b[0mpred_mixed\u001b[0m \u001b[0;34m=\u001b[0m \u001b[0mnp\u001b[0m\u001b[0;34m.\u001b[0m\u001b[0mloadtxt\u001b[0m\u001b[0;34m(\u001b[0m\u001b[0mos\u001b[0m\u001b[0;34m.\u001b[0m\u001b[0mpath\u001b[0m\u001b[0;34m.\u001b[0m\u001b[0mjoin\u001b[0m\u001b[0;34m(\u001b[0m\u001b[0;34m'/home/iexpress/TCGA/saved_models/predictions'\u001b[0m\u001b[0;34m,\u001b[0m \u001b[0;34m'predictions_mixed.csv'\u001b[0m\u001b[0;34m)\u001b[0m\u001b[0;34m,\u001b[0m \u001b[0mdelimiter\u001b[0m\u001b[0;34m=\u001b[0m\u001b[0;34m\";\"\u001b[0m\u001b[0;34m)\u001b[0m\u001b[0;34m\u001b[0m\u001b[0;34m\u001b[0m\u001b[0m\n\u001b[0m",
      "\u001b[0;32m~/.local/lib/python3.8/site-packages/numpy/lib/npyio.py\u001b[0m in \u001b[0;36mloadtxt\u001b[0;34m(fname, dtype, comments, delimiter, converters, skiprows, usecols, unpack, ndmin, encoding, max_rows)\u001b[0m\n\u001b[1;32m    979\u001b[0m             \u001b[0mfname\u001b[0m \u001b[0;34m=\u001b[0m \u001b[0mos_fspath\u001b[0m\u001b[0;34m(\u001b[0m\u001b[0mfname\u001b[0m\u001b[0;34m)\u001b[0m\u001b[0;34m\u001b[0m\u001b[0;34m\u001b[0m\u001b[0m\n\u001b[1;32m    980\u001b[0m         \u001b[0;32mif\u001b[0m \u001b[0m_is_string_like\u001b[0m\u001b[0;34m(\u001b[0m\u001b[0mfname\u001b[0m\u001b[0;34m)\u001b[0m\u001b[0;34m:\u001b[0m\u001b[0;34m\u001b[0m\u001b[0;34m\u001b[0m\u001b[0m\n\u001b[0;32m--> 981\u001b[0;31m             \u001b[0mfh\u001b[0m \u001b[0;34m=\u001b[0m \u001b[0mnp\u001b[0m\u001b[0;34m.\u001b[0m\u001b[0mlib\u001b[0m\u001b[0;34m.\u001b[0m\u001b[0m_datasource\u001b[0m\u001b[0;34m.\u001b[0m\u001b[0mopen\u001b[0m\u001b[0;34m(\u001b[0m\u001b[0mfname\u001b[0m\u001b[0;34m,\u001b[0m \u001b[0;34m'rt'\u001b[0m\u001b[0;34m,\u001b[0m \u001b[0mencoding\u001b[0m\u001b[0;34m=\u001b[0m\u001b[0mencoding\u001b[0m\u001b[0;34m)\u001b[0m\u001b[0;34m\u001b[0m\u001b[0;34m\u001b[0m\u001b[0m\n\u001b[0m\u001b[1;32m    982\u001b[0m             \u001b[0mfencoding\u001b[0m \u001b[0;34m=\u001b[0m \u001b[0mgetattr\u001b[0m\u001b[0;34m(\u001b[0m\u001b[0mfh\u001b[0m\u001b[0;34m,\u001b[0m \u001b[0;34m'encoding'\u001b[0m\u001b[0;34m,\u001b[0m \u001b[0;34m'latin1'\u001b[0m\u001b[0;34m)\u001b[0m\u001b[0;34m\u001b[0m\u001b[0;34m\u001b[0m\u001b[0m\n\u001b[1;32m    983\u001b[0m             \u001b[0mfh\u001b[0m \u001b[0;34m=\u001b[0m \u001b[0miter\u001b[0m\u001b[0;34m(\u001b[0m\u001b[0mfh\u001b[0m\u001b[0;34m)\u001b[0m\u001b[0;34m\u001b[0m\u001b[0;34m\u001b[0m\u001b[0m\n",
      "\u001b[0;32m~/.local/lib/python3.8/site-packages/numpy/lib/_datasource.py\u001b[0m in \u001b[0;36mopen\u001b[0;34m(path, mode, destpath, encoding, newline)\u001b[0m\n\u001b[1;32m    267\u001b[0m \u001b[0;34m\u001b[0m\u001b[0m\n\u001b[1;32m    268\u001b[0m     \u001b[0mds\u001b[0m \u001b[0;34m=\u001b[0m \u001b[0mDataSource\u001b[0m\u001b[0;34m(\u001b[0m\u001b[0mdestpath\u001b[0m\u001b[0;34m)\u001b[0m\u001b[0;34m\u001b[0m\u001b[0;34m\u001b[0m\u001b[0m\n\u001b[0;32m--> 269\u001b[0;31m     \u001b[0;32mreturn\u001b[0m \u001b[0mds\u001b[0m\u001b[0;34m.\u001b[0m\u001b[0mopen\u001b[0m\u001b[0;34m(\u001b[0m\u001b[0mpath\u001b[0m\u001b[0;34m,\u001b[0m \u001b[0mmode\u001b[0m\u001b[0;34m,\u001b[0m \u001b[0mencoding\u001b[0m\u001b[0;34m=\u001b[0m\u001b[0mencoding\u001b[0m\u001b[0;34m,\u001b[0m \u001b[0mnewline\u001b[0m\u001b[0;34m=\u001b[0m\u001b[0mnewline\u001b[0m\u001b[0;34m)\u001b[0m\u001b[0;34m\u001b[0m\u001b[0;34m\u001b[0m\u001b[0m\n\u001b[0m\u001b[1;32m    270\u001b[0m \u001b[0;34m\u001b[0m\u001b[0m\n\u001b[1;32m    271\u001b[0m \u001b[0;34m\u001b[0m\u001b[0m\n",
      "\u001b[0;32m~/.local/lib/python3.8/site-packages/numpy/lib/_datasource.py\u001b[0m in \u001b[0;36mopen\u001b[0;34m(self, path, mode, encoding, newline)\u001b[0m\n\u001b[1;32m    621\u001b[0m                                       encoding=encoding, newline=newline)\n\u001b[1;32m    622\u001b[0m         \u001b[0;32melse\u001b[0m\u001b[0;34m:\u001b[0m\u001b[0;34m\u001b[0m\u001b[0;34m\u001b[0m\u001b[0m\n\u001b[0;32m--> 623\u001b[0;31m             \u001b[0;32mraise\u001b[0m \u001b[0mIOError\u001b[0m\u001b[0;34m(\u001b[0m\u001b[0;34m\"%s not found.\"\u001b[0m \u001b[0;34m%\u001b[0m \u001b[0mpath\u001b[0m\u001b[0;34m)\u001b[0m\u001b[0;34m\u001b[0m\u001b[0;34m\u001b[0m\u001b[0m\n\u001b[0m\u001b[1;32m    624\u001b[0m \u001b[0;34m\u001b[0m\u001b[0m\n\u001b[1;32m    625\u001b[0m \u001b[0;34m\u001b[0m\u001b[0m\n",
      "\u001b[0;31mOSError\u001b[0m: /home/iexpress/TCGA/saved_models/predictions/predictions_mixed.csv not found."
     ]
    }
   ],
   "source": [
    "pred_standard = np.loadtxt(os.path.join('/home/iexpress/TCGA/saved_models/predictions', 'predictions_standard.csv'), delimiter=\";\")\n",
    "pred_gene = np.loadtxt(os.path.join('/home/iexpress/TCGA/saved_models/predictions', 'predictions_gene.csv'), delimiter=\";\")\n",
    "pred_all = np.loadtxt(os.path.join('/home/iexpress/TCGA/saved_models/predictions', 'predictions_all.csv'), delimiter=\";\")\n",
    "pred_mixed = np.loadtxt(os.path.join('/home/iexpress/TCGA/saved_models/predictions', 'predictions_mixed.csv'), delimiter=\";\")\n"
   ]
  },
  {
   "cell_type": "code",
   "execution_count": 26,
   "id": "d32eaf8a",
   "metadata": {},
   "outputs": [
    {
     "data": {
      "image/png": "[encoded data removed]",
      "text/plain": [
       "<Figure size 432x288 with 1 Axes>"
      ]
     },
     "metadata": {
      "needs_background": "light"
     },
     "output_type": "display_data"
    }
   ],
   "source": [
    "fpr_standard, tpr_standard, threshold_standard = roc_curve(y_test, pred_standard)\n",
    "roc_auc_standard = roc_auc_score(y_true = y_test, y_score = pred_standard)\n",
    "fpr_gene, tpr_gene, threshold_gene = roc_curve(y_test, pred_gene)\n",
    "roc_auc_gene = roc_auc_score(y_true = y_test, y_score = pred_gene)\n",
    "fpr_all, tpr_all, threshold_all = roc_curve(y_val, pred_all)\n",
    "roc_auc_all = roc_auc_score(y_true = y_val, y_score = pred_all)\n",
    "fpr_mixed, tpr_mixed, threshold_mixed = roc_curve(y_val, pred_mixed)\n",
    "roc_auc_mixed = roc_auc_score(y_true = y_val, y_score = pred_mixed)\n",
    "\n",
    "plt.title('Receiver Operating Characteristic')\n",
    "plt.plot(fpr_standard, tpr_standard, 'y', label = 'AUC Standard = %0.2f' % roc_auc_standard)\n",
    "plt.plot(fpr_gene, tpr_gene, 'r', label = 'AUC Gene = %0.2f' % roc_auc_gene)\n",
    "plt.plot(fpr_all, tpr_all, 'g', label = 'AUC All = %0.2f' % roc_auc_all)\n",
    "plt.plot(fpr_mixed, tpr_mixed, 'b', label = 'AUC Mixed = %0.2f' % roc_auc_mixed)\n",
    "plt.legend(loc = 'lower right')\n",
    "plt.plot([0, 1], [0, 1],'k--')\n",
    "plt.xlim([0, 1])\n",
    "plt.ylim([0, 1])\n",
    "plt.ylabel('True Positive Rate')\n",
    "plt.xlabel('False Positive Rate')\n",
    "plt.show()"
   ]
  }
 ],
 "metadata": {
  "kernelspec": {
   "display_name": "Python 3 (ipykernel)",
   "language": "python",
   "name": "python3"
  },
  "language_info": {
   "codemirror_mode": {
    "name": "ipython",
    "version": 3
   },
   "file_extension": ".py",
   "mimetype": "text/x-python",
   "name": "python",
   "nbconvert_exporter": "python",
   "pygments_lexer": "ipython3",
   "version": "3.8.10"
  }
 },
 "nbformat": 4,
 "nbformat_minor": 5
}
